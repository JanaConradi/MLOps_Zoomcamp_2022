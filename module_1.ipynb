{
 "cells": [
  {
   "cell_type": "markdown",
   "metadata": {},
   "source": [
    "# Module 1 - Introduction to MLOps\n",
    "\n",
    "MLOps?** There is no exact definition for MLOps. In generally, it means putting Machine Learning models in production.<br>\n",
    "\n",
    "**What will we learn?** Deployment, monitoring, web services, Data drift\n",
    "\n",
    "**What tools will we use?** MLflow, AWS Lambda, Docker, Git, Kubeflow, Kinesis/SQS\n",
    "\n",
    "**How much time do I have to devote daily or weekly?** Not known. Approx. 8 - 10 h. Need to be tracked."
   ]
  },
  {
   "cell_type": "markdown",
   "metadata": {},
   "source": [
    "## Environment preparation\n",
    "The zoomcamp chose AWS as environment. \n",
    "\n",
    "I decided to first use a local environment and then use GCP instead.\n",
    "\n",
    "\n",
    "1. Install anaconda3\n",
    "2. Install Docker"
   ]
  },
  {
   "cell_type": "markdown",
   "metadata": {},
   "source": [
    "* What is MLOps? \n",
    "    MLOps is the best practise to put Machine Learning model into production.\n",
    "\n",
    "* MLOps maturity model\n",
    "\n",
    "* Running example: NY Taxi trips dataset\n",
    "* Why do we need MLOps\n",
    "* Course overview\n",
    "* Environment preparation\n",
    "* Homework"
   ]
  },
  {
   "cell_type": "markdown",
   "metadata": {},
   "source": [
    "Our problem:\n",
    "\n",
    "We want to develop a model that can predict the duration of a taxi trip from point A to B and offer it as a web service (API).\n",
    "\n",
    "For that, we \n",
    "1. design a model\n",
    "2. train a model\n",
    "3. operate the model"
   ]
  },
  {
   "cell_type": "code",
   "execution_count": null,
   "metadata": {},
   "outputs": [],
   "source": []
  },
  {
   "cell_type": "markdown",
   "metadata": {},
   "source": []
  }
 ],
 "metadata": {
  "language_info": {
   "name": "python"
  },
  "orig_nbformat": 4
 },
 "nbformat": 4,
 "nbformat_minor": 2
}
