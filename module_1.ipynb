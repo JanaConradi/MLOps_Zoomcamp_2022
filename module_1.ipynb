{
 "cells": [
  {
   "cell_type": "markdown",
   "metadata": {},
   "source": [
    "# Module 1 - Introduction to MLOps\n",
    "\n",
    "**What is MLOps?** There is no exact definition for MLOps. In generally, it means putting Machine Learning models in production.<br>\n",
    "\n",
    "**What will we learn?** Deployment, monitoring, web services, Data drift\n",
    "\n",
    "**What tools will we use?** MLflow, AWS Lambda, Docker, Git, Kubeflow, Kinesis/SQS\n",
    "\n",
    "**How much time do I have to devote daily or weekly?** Not known. Approx. 8 - 10 h. Need to be tracked."
   ]
  },
  {
   "cell_type": "markdown",
   "metadata": {},
   "source": [
    "## Course syllabus\n",
    "To receive points on the leaderboard, you have to do the assigned homework, post your learning progress on social media, write FAQ questions. For receiving the Certificate, the points on the leaderpoint do not matter. One has only to "
   ]
  },
  {
   "cell_type": "code",
   "execution_count": null,
   "metadata": {},
   "outputs": [],
   "source": []
  },
  {
   "cell_type": "markdown",
   "metadata": {},
   "source": []
  }
 ],
 "metadata": {
  "language_info": {
   "name": "python"
  },
  "orig_nbformat": 4
 },
 "nbformat": 4,
 "nbformat_minor": 2
}
